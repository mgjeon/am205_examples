{
 "cells": [
  {
   "cell_type": "code",
   "execution_count": null,
   "metadata": {},
   "outputs": [],
   "source": [
    "import numpy as np \n",
    "import matplotlib.pyplot as plt"
   ]
  },
  {
   "cell_type": "code",
   "execution_count": null,
   "metadata": {},
   "outputs": [],
   "source": [
    "def f(x):\n",
    "    return np.exp(5*x)\n",
    "\n",
    "def f_prime(x):\n",
    "    return 5*np.exp(5*x)\n",
    "\n",
    "def f_prime_forward(x, h):\n",
    "    return (f(x+h)-f(x))/h"
   ]
  },
  {
   "cell_type": "code",
   "execution_count": null,
   "metadata": {},
   "outputs": [],
   "source": [
    "x = 1\n",
    "\n",
    "errors = []\n",
    "hs = []\n",
    "for i in np.linspace(0, 16):\n",
    "    h = 10**(-i)\n",
    "    error = abs(f_prime(x) - f_prime_forward(x, h))\n",
    "    hs.append(h)\n",
    "    errors.append(error)\n",
    "\n",
    "plt.figure()\n",
    "plt.loglog(hs, errors)\n",
    "plt.xlabel('h')\n",
    "plt.ylabel('Total Error')\n",
    "plt.show()"
   ]
  },
  {
   "cell_type": "code",
   "execution_count": null,
   "metadata": {},
   "outputs": [],
   "source": []
  }
 ],
 "metadata": {
  "kernelspec": {
   "display_name": "python3",
   "language": "python",
   "name": "python3"
  }
 },
 "nbformat": 4,
 "nbformat_minor": 2
}
