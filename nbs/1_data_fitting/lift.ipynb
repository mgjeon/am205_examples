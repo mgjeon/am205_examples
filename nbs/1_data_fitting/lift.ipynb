{
 "cells": [
  {
   "cell_type": "code",
   "execution_count": null,
   "metadata": {},
   "outputs": [],
   "source": [
    "import numpy as np\n",
    "import matplotlib.pyplot as plt"
   ]
  },
  {
   "cell_type": "code",
   "execution_count": null,
   "metadata": {},
   "outputs": [],
   "source": [
    "# Vandermonde interpolation function\n",
    "n=12\n",
    "def vand_f(x,b):\n",
    "    fx=b[0]\n",
    "    for i in range(n-1):\n",
    "        fx*=x\n",
    "        fx+=b[i+1]\n",
    "    return fx"
   ]
  },
  {
   "cell_type": "code",
   "execution_count": null,
   "metadata": {},
   "outputs": [],
   "source": [
    "# Create data and a truncated Vandermonde matrix\n",
    "x=np.linspace(0,1,50)\n",
    "A=np.vander(x,n)\n",
    "y=np.cos(4*x)"
   ]
  },
  {
   "cell_type": "code",
   "execution_count": null,
   "metadata": {},
   "outputs": [],
   "source": [
    "print(\"x.shape=\",x.shape)\n",
    "print(\"A.shape=\",A.shape)\n",
    "print(\"y.shape=\",y.shape)"
   ]
  },
  {
   "cell_type": "code",
   "execution_count": null,
   "metadata": {},
   "outputs": [],
   "source": [
    "# Solve using the least-squares function\n",
    "b1=np.linalg.lstsq(A,y,rcond=None)[0]"
   ]
  },
  {
   "cell_type": "code",
   "execution_count": null,
   "metadata": {},
   "outputs": [],
   "source": [
    "# Solve the normal equations directly\n",
    "AT=np.transpose(A)\n",
    "ATA=np.dot(AT,A)\n",
    "print(\"Condition number: \",np.linalg.cond(ATA))\n",
    "b2=np.linalg.solve(ATA,np.dot(AT,y))"
   ]
  },
  {
   "cell_type": "code",
   "execution_count": null,
   "metadata": {},
   "outputs": [],
   "source": [
    "# Evaluate difference between the two parameter sets\n",
    "print(b1-b2)"
   ]
  },
  {
   "cell_type": "code",
   "execution_count": null,
   "metadata": {},
   "outputs": [],
   "source": [
    "# Plot results\n",
    "xnew=np.linspace(0,1,200)\n",
    "vnew=[vand_f(q,b1) for q in xnew]\n",
    "v2new=[vand_f(q,b2) for q in xnew]\n",
    "plt.xlabel('x')\n",
    "plt.ylabel('y')\n",
    "plt.plot(x,y,'o')\n",
    "plt.plot(xnew,vnew)\n",
    "plt.plot(xnew,v2new)\n",
    "plt.legend(['data','least sq.','direct'],loc='best')\n",
    "plt.show()"
   ]
  },
  {
   "cell_type": "code",
   "execution_count": null,
   "metadata": {},
   "outputs": [],
   "source": [
    "# Plot results\n",
    "xnew=np.linspace(-1.5,2.5,200)\n",
    "vnew=[vand_f(q,b1) for q in xnew]\n",
    "v2new=[vand_f(q,b2) for q in xnew]\n",
    "plt.xlabel('x')\n",
    "plt.ylabel('y')\n",
    "plt.plot(x,y,'o')\n",
    "plt.plot(xnew,vnew)\n",
    "plt.plot(xnew,v2new)\n",
    "plt.legend(['data','least sq.','direct'],loc='best')\n",
    "plt.show()"
   ]
  },
  {
   "cell_type": "code",
   "execution_count": null,
   "metadata": {},
   "outputs": [],
   "source": []
  }
 ],
 "metadata": {
  "kernelspec": {
   "display_name": "python3",
   "language": "python",
   "name": "python3"
  }
 },
 "nbformat": 4,
 "nbformat_minor": 2
}
