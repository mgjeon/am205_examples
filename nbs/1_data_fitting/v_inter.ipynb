{
 "cells": [
  {
   "cell_type": "code",
   "execution_count": null,
   "metadata": {},
   "outputs": [],
   "source": [
    "import numpy as np\n",
    "import matplotlib.pyplot as plt"
   ]
  },
  {
   "cell_type": "markdown",
   "metadata": {},
   "source": [
    "# condition number"
   ]
  },
  {
   "cell_type": "code",
   "execution_count": null,
   "metadata": {},
   "outputs": [],
   "source": [
    "A = np.array([\n",
    "    [4, 0],\n",
    "    [0, 1/3]\n",
    "])"
   ]
  },
  {
   "cell_type": "code",
   "execution_count": null,
   "metadata": {},
   "outputs": [],
   "source": [
    "np.linalg.cond(A)"
   ]
  },
  {
   "cell_type": "code",
   "execution_count": null,
   "metadata": {},
   "outputs": [],
   "source": [
    "A = np.array([\n",
    "    [-4, 0],\n",
    "    [0, 1/3]\n",
    "])"
   ]
  },
  {
   "cell_type": "code",
   "execution_count": null,
   "metadata": {},
   "outputs": [],
   "source": [
    "np.linalg.cond(A)"
   ]
  },
  {
   "cell_type": "markdown",
   "metadata": {},
   "source": [
    "# Vandermonde polynomial interpolation"
   ]
  },
  {
   "cell_type": "code",
   "execution_count": null,
   "metadata": {},
   "outputs": [],
   "source": [
    "xmin = 0\n",
    "xmax = 3\n",
    "n = 5\n",
    "x = np.linspace(xmin, xmax, n)\n",
    "x"
   ]
  },
  {
   "cell_type": "code",
   "execution_count": null,
   "metadata": {},
   "outputs": [],
   "source": [
    "y = np.exp(-x)\n",
    "y"
   ]
  },
  {
   "cell_type": "code",
   "execution_count": null,
   "metadata": {},
   "outputs": [],
   "source": [
    "xx = np.linspace(xmin, xmax, 1000)\n",
    "yy = np.exp(-xx)"
   ]
  },
  {
   "cell_type": "code",
   "execution_count": null,
   "metadata": {},
   "outputs": [],
   "source": [
    "plt.plot(x, y, 'o')\n",
    "plt.plot(xx, yy)\n",
    "plt.xlabel('x')\n",
    "plt.ylabel('y')\n",
    "plt.show()"
   ]
  },
  {
   "cell_type": "code",
   "execution_count": null,
   "metadata": {},
   "outputs": [],
   "source": [
    "V = np.vander(x, increasing=True)\n",
    "V"
   ]
  },
  {
   "cell_type": "code",
   "execution_count": null,
   "metadata": {},
   "outputs": [],
   "source": [
    "np.linalg.cond(V)"
   ]
  },
  {
   "cell_type": "code",
   "execution_count": null,
   "metadata": {},
   "outputs": [],
   "source": [
    "y"
   ]
  },
  {
   "cell_type": "code",
   "execution_count": null,
   "metadata": {},
   "outputs": [],
   "source": [
    "b = np.linalg.solve(V, y)\n",
    "b"
   ]
  },
  {
   "cell_type": "code",
   "execution_count": null,
   "metadata": {},
   "outputs": [],
   "source": [
    "yy1 = b[n-1]\n",
    "for i in range(n-2, -1, -1):\n",
    "    yy1 *= xx\n",
    "    yy1 += b[i]"
   ]
  },
  {
   "cell_type": "code",
   "execution_count": null,
   "metadata": {},
   "outputs": [],
   "source": [
    "plt.plot(xx, yy, label=\"exp(-x)\")\n",
    "plt.plot(xx, yy1, label=\"Vander interpolation\")\n",
    "plt.legend()\n",
    "plt.xlabel('x')\n",
    "plt.ylabel('y')\n",
    "plt.show()"
   ]
  },
  {
   "cell_type": "markdown",
   "metadata": {},
   "source": [
    "# summary"
   ]
  },
  {
   "cell_type": "code",
   "execution_count": null,
   "metadata": {},
   "outputs": [],
   "source": [
    "xmin = 0\n",
    "xmax = 3\n",
    "n = 5\n",
    "x = np.linspace(xmin, xmax, n)\n",
    "y = np.exp(-x)\n",
    "\n",
    "xx = np.linspace(xmin, xmax, 1000)\n",
    "yy = np.exp(-xx)\n",
    "\n",
    "V = np.vander(x, increasing=True)\n",
    "print(np.linalg.cond(V))\n",
    "\n",
    "b = np.linalg.solve(V, y)\n",
    "\n",
    "yy1 = b[n-1]\n",
    "for i in range(n-2, -1, -1):\n",
    "    yy1 *= xx\n",
    "    yy1 += b[i]\n",
    "    \n",
    "plt.plot(xx, yy, label=\"exp(-x)\")\n",
    "plt.plot(xx, yy1, label=\"Vander interpolation\")\n",
    "plt.legend()\n",
    "plt.xlabel('x')\n",
    "plt.ylabel('y')\n",
    "plt.show()\n",
    "\n",
    "plt.plot(xx, yy1-yy, label=\"Interpol-Reference\")\n",
    "plt.axhline(0, color='black', lw=0.5)\n",
    "plt.legend()\n",
    "plt.xlabel('x')\n",
    "plt.ylabel('y')\n",
    "plt.show()"
   ]
  },
  {
   "cell_type": "code",
   "execution_count": null,
   "metadata": {},
   "outputs": [],
   "source": [
    "xmin = 0\n",
    "xmax = 3\n",
    "n = 5\n",
    "x = np.linspace(xmin, xmax, n)\n",
    "y = np.exp(-x)\n",
    "\n",
    "xx = np.linspace(xmin, xmax, 1000)\n",
    "yy = np.exp(-xx)\n",
    "\n",
    "V = np.vander(x, increasing=True)\n",
    "print(np.linalg.cond(V))\n",
    "\n",
    "b = np.linalg.solve(V, y)\n",
    "b += 1e-6*np.random.rand(n)\n",
    "\n",
    "yy1 = b[n-1]\n",
    "for i in range(n-2, -1, -1):\n",
    "    yy1 *= xx\n",
    "    yy1 += b[i]\n",
    "plt.plot(xx, yy, label=\"exp(-x)\")\n",
    "plt.plot(xx, yy1, label=\"Vander interpolation\")\n",
    "plt.legend()\n",
    "plt.xlabel('x')\n",
    "plt.ylabel('y')\n",
    "plt.show()\n",
    "\n",
    "plt.plot(xx, yy1-yy, label=\"Interpol-Reference\")\n",
    "plt.axhline(0, color='black', lw=0.5)\n",
    "plt.legend()\n",
    "plt.xlabel('x')\n",
    "plt.ylabel('y')\n",
    "plt.show()"
   ]
  },
  {
   "cell_type": "code",
   "execution_count": null,
   "metadata": {},
   "outputs": [],
   "source": [
    "xmin = 0\n",
    "xmax = 3\n",
    "n = 12\n",
    "x = np.linspace(xmin, xmax, n)\n",
    "y = np.exp(-x)\n",
    "\n",
    "xx = np.linspace(xmin, xmax, 1000)\n",
    "yy = np.exp(-xx)\n",
    "\n",
    "V = np.vander(x, increasing=True)\n",
    "print(np.linalg.cond(V))\n",
    "\n",
    "b = np.linalg.solve(V, y)\n",
    "# b += 1e-6*np.random.rand(n)\n",
    "\n",
    "yy1 = b[n-1]\n",
    "for i in range(n-2, -1, -1):\n",
    "    yy1 *= xx\n",
    "    yy1 += b[i]\n",
    "plt.plot(xx, yy, label=\"exp(-x)\")\n",
    "plt.plot(xx, yy1, label=\"Vander interpolation\")\n",
    "plt.legend()\n",
    "plt.xlabel('x')\n",
    "plt.ylabel('y')\n",
    "plt.show()\n",
    "\n",
    "plt.plot(xx, yy1-yy, label=\"Interpol-Reference\")\n",
    "plt.axhline(0, color='black', lw=0.5)\n",
    "plt.legend()\n",
    "plt.xlabel('x')\n",
    "plt.ylabel('y')\n",
    "plt.show()"
   ]
  },
  {
   "cell_type": "code",
   "execution_count": null,
   "metadata": {},
   "outputs": [],
   "source": [
    "xmin = 0\n",
    "xmax = 3\n",
    "n = 12\n",
    "x = np.linspace(xmin, xmax, n)\n",
    "y = np.exp(-x)\n",
    "\n",
    "xx = np.linspace(xmin, xmax, 1000)\n",
    "yy = np.exp(-xx)\n",
    "\n",
    "V = np.vander(x, increasing=True)\n",
    "print(np.linalg.cond(V))\n",
    "\n",
    "b = np.linalg.solve(V, y)\n",
    "b += 1e-6*np.random.rand(n)\n",
    "\n",
    "yy1 = b[n-1]\n",
    "for i in range(n-2, -1, -1):\n",
    "    yy1 *= xx\n",
    "    yy1 += b[i]\n",
    "plt.plot(xx, yy, label=\"exp(-x)\")\n",
    "plt.plot(xx, yy1, label=\"Vander interpolation\")\n",
    "plt.legend()\n",
    "plt.xlabel('x')\n",
    "plt.ylabel('y')\n",
    "plt.show()\n",
    "\n",
    "plt.plot(xx, yy1-yy, label=\"Interpol-Reference\")\n",
    "plt.axhline(0, color='black', lw=0.5)\n",
    "plt.legend()\n",
    "plt.xlabel('x')\n",
    "plt.ylabel('y')\n",
    "plt.show()"
   ]
  },
  {
   "cell_type": "code",
   "execution_count": null,
   "metadata": {},
   "outputs": [],
   "source": [
    "xmin = 0\n",
    "xmax = 3\n",
    "n = 24\n",
    "x = np.linspace(xmin, xmax, n)\n",
    "y = np.exp(-x)\n",
    "\n",
    "xx = np.linspace(xmin, xmax, 1000)\n",
    "yy = np.exp(-xx)\n",
    "\n",
    "x += 1e-6*np.random.rand(n)\n",
    "V = np.vander(x, increasing=True)\n",
    "print(np.linalg.cond(V))\n",
    "\n",
    "b = np.linalg.solve(V, y)\n",
    "\n",
    "yy1 = b[n-1]\n",
    "for i in range(n-2, -1, -1):\n",
    "    yy1 *= xx\n",
    "    yy1 += b[i]\n",
    "plt.plot(xx, yy, label=\"exp(-x)\")\n",
    "plt.plot(xx, yy1, label=\"Vander interpolation\")\n",
    "plt.legend()\n",
    "plt.xlabel('x')\n",
    "plt.ylabel('y')\n",
    "plt.show()\n",
    "\n",
    "plt.plot(xx, yy1-yy, label=\"Interpol-Reference\")\n",
    "plt.axhline(0, color='black', lw=0.5)\n",
    "plt.legend()\n",
    "plt.xlabel('x')\n",
    "plt.ylabel('y')\n",
    "plt.show()"
   ]
  },
  {
   "cell_type": "code",
   "execution_count": null,
   "metadata": {},
   "outputs": [],
   "source": []
  }
 ],
 "metadata": {
  "kernelspec": {
   "display_name": "python3",
   "language": "python",
   "name": "python3"
  }
 },
 "nbformat": 4,
 "nbformat_minor": 2
}
