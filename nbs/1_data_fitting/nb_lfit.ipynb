{
 "cells": [
  {
   "cell_type": "code",
   "execution_count": null,
   "metadata": {},
   "outputs": [],
   "source": [
    "import numpy as np\n",
    "import matplotlib.pyplot as plt"
   ]
  },
  {
   "cell_type": "code",
   "execution_count": null,
   "metadata": {},
   "outputs": [],
   "source": [
    "# Maximum exponential term, and total number of terms\n",
    "n=1\n",
    "s=2*n+1"
   ]
  },
  {
   "cell_type": "code",
   "execution_count": null,
   "metadata": {},
   "outputs": [],
   "source": [
    "# Function to evaluate sum of exponentials at a particular x\n",
    "def sum_exp_f(x,b):\n",
    "    fx=0\n",
    "    for i in range(s):\n",
    "        fx+=b[i]*np.exp((i-n)*x)\n",
    "    return fx"
   ]
  },
  {
   "cell_type": "code",
   "execution_count": null,
   "metadata": {},
   "outputs": [],
   "source": [
    "# Create matrix where each column is an exponential, as opposed to a monomial\n",
    "# in the usual Vandermonde construction\n",
    "x=np.linspace(-1,1,20)\n",
    "A=np.array([[np.exp((i-n)*xx) for i in range(s)] for xx in x])\n",
    "y=np.cos(4*x)*np.exp(-x)"
   ]
  },
  {
   "cell_type": "code",
   "execution_count": null,
   "metadata": {},
   "outputs": [],
   "source": [
    "# Solve using the least-squares function\n",
    "b=np.linalg.lstsq(A,y,rcond=None)[0]\n",
    "print(\"Norm(r)/Norm(b) :\",np.linalg.norm(y-np.dot(A,b))/np.linalg.norm(b))"
   ]
  },
  {
   "cell_type": "code",
   "execution_count": null,
   "metadata": {},
   "outputs": [],
   "source": [
    "# Plot results\n",
    "xnew=np.linspace(-1,1,200)\n",
    "vnew=[sum_exp_f(q,b) for q in xnew]\n",
    "plt.xlabel('x')\n",
    "plt.ylabel('y')\n",
    "plt.plot(x,y,'o',xnew,vnew,'-')\n",
    "plt.legend(['data','least sq.'],loc='best')\n",
    "plt.show()"
   ]
  },
  {
   "cell_type": "code",
   "execution_count": null,
   "metadata": {},
   "outputs": [],
   "source": [
    "n=3\n",
    "s=2*n+1\n",
    "\n",
    "x=np.linspace(-1,1,20)\n",
    "A=np.array([[np.exp((i-n)*xx) for i in range(s)] for xx in x])\n",
    "y=np.cos(4*x)*np.exp(-x)\n",
    "\n",
    "# Solve using the least-squares function\n",
    "b=np.linalg.lstsq(A,y,rcond=None)[0]\n",
    "print(\"Norm(r)/Norm(b) :\",np.linalg.norm(y-np.dot(A,b))/np.linalg.norm(b))\n",
    "\n",
    "xnew=np.linspace(-1,1,200)\n",
    "vnew=[sum_exp_f(q,b) for q in xnew]\n",
    "plt.xlabel('x')\n",
    "plt.ylabel('y')\n",
    "plt.plot(x,y,'o',xnew,vnew,'-')\n",
    "plt.legend(['data','least sq.'],loc='best')\n",
    "plt.show()"
   ]
  },
  {
   "cell_type": "code",
   "execution_count": null,
   "metadata": {},
   "outputs": [],
   "source": [
    "n=5\n",
    "s=2*n+1\n",
    "\n",
    "x=np.linspace(-1,1,20)\n",
    "A=np.array([[np.exp((i-n)*xx) for i in range(s)] for xx in x])\n",
    "y=np.cos(4*x)*np.exp(-x)\n",
    "\n",
    "# Solve using the least-squares function\n",
    "b=np.linalg.lstsq(A,y,rcond=None)[0]\n",
    "print(\"Norm(r)/Norm(b) :\",np.linalg.norm(y-np.dot(A,b))/np.linalg.norm(b))\n",
    "\n",
    "xnew=np.linspace(-1,1,200)\n",
    "vnew=[sum_exp_f(q,b) for q in xnew]\n",
    "plt.xlabel('x')\n",
    "plt.ylabel('y')\n",
    "plt.plot(x,y,'o',xnew,vnew,'-')\n",
    "plt.legend(['data','least sq.'],loc='best')\n",
    "plt.show()"
   ]
  },
  {
   "cell_type": "code",
   "execution_count": null,
   "metadata": {},
   "outputs": [],
   "source": []
  }
 ],
 "metadata": {
  "kernelspec": {
   "display_name": "python3",
   "language": "python",
   "name": "python3"
  }
 },
 "nbformat": 4,
 "nbformat_minor": 2
}
