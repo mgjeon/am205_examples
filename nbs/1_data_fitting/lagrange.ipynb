{
 "cells": [
  {
   "cell_type": "code",
   "execution_count": null,
   "metadata": {},
   "outputs": [],
   "source": [
    "import numpy as np\n",
    "import matplotlib.pyplot as plt"
   ]
  },
  {
   "cell_type": "code",
   "execution_count": null,
   "metadata": {},
   "outputs": [],
   "source": [
    "def lagr(x, xp, yp):\n",
    "    lm = 0\n",
    "    for k in range(xp.size):\n",
    "        li = 1\n",
    "        for l in range(xp.size):\n",
    "            if l != k:\n",
    "                li *= (x - xp[l]) / (xp[k] - xp[l])\n",
    "        lm += yp[k]*li\n",
    "    return lm"
   ]
  },
  {
   "cell_type": "code",
   "execution_count": null,
   "metadata": {},
   "outputs": [],
   "source": [
    "xmin = 0\n",
    "xmax = 3\n",
    "n = 5\n",
    "x = np.linspace(xmin, xmax, n)\n",
    "y = np.exp(-x)\n",
    "\n",
    "xx = np.linspace(xmin, xmax, 1000)\n",
    "yy = np.exp(-xx)\n",
    "\n",
    "yy1 = np.array([lagr(xi, x, y) for xi in xx])\n",
    "\n",
    "plt.plot(xx, yy, label='exp(-x)')\n",
    "plt.plot(xx, yy1, label=\"Lagrange interpolation\")\n",
    "plt.legend()\n",
    "plt.xlabel('x')\n",
    "plt.ylabel('y')\n",
    "plt.show()\n",
    "\n",
    "plt.plot(xx, yy1-yy, label=\"Interpol-Reference\")\n",
    "plt.axhline(0, color='black', lw=0.5)\n",
    "plt.legend()\n",
    "plt.xlabel('x')\n",
    "plt.ylabel('y')\n",
    "plt.show()"
   ]
  },
  {
   "cell_type": "code",
   "execution_count": null,
   "metadata": {},
   "outputs": [],
   "source": [
    "xmin = 0\n",
    "xmax = 3\n",
    "n = 24\n",
    "x = np.linspace(xmin, xmax, n)\n",
    "y = np.exp(-x)\n",
    "\n",
    "xx = np.linspace(xmin, xmax, 1000)\n",
    "yy = np.exp(-xx)\n",
    "\n",
    "x += 1e-6*np.random.randn(n)\n",
    "yy1 = np.array([lagr(xi, x, y) for xi in xx])\n",
    "\n",
    "plt.plot(xx, yy, label='exp(-x)')\n",
    "plt.plot(xx, yy1, label=\"Lagrange interpolation\")\n",
    "plt.legend()\n",
    "plt.xlabel('x')\n",
    "plt.ylabel('y')\n",
    "plt.show()\n",
    "\n",
    "plt.plot(xx, yy1-yy, label=\"Interpol-Reference\")\n",
    "plt.axhline(0, color='black', lw=0.5)\n",
    "plt.legend()\n",
    "plt.xlabel('x')\n",
    "plt.ylabel('y')\n",
    "plt.show()"
   ]
  },
  {
   "cell_type": "code",
   "execution_count": null,
   "metadata": {},
   "outputs": [],
   "source": []
  }
 ],
 "metadata": {
  "kernelspec": {
   "display_name": "python3",
   "language": "python",
   "name": "python3"
  }
 },
 "nbformat": 4,
 "nbformat_minor": 2
}
