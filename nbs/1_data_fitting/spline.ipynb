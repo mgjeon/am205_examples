{
 "cells": [
  {
   "cell_type": "code",
   "execution_count": null,
   "metadata": {},
   "outputs": [],
   "source": [
    "import numpy as np\n",
    "from scipy.interpolate import interp1d\n",
    "import matplotlib.pyplot as plt"
   ]
  },
  {
   "cell_type": "code",
   "execution_count": null,
   "metadata": {},
   "outputs": [],
   "source": [
    "# Construct splines for two sets of similar data points\n",
    "t=np.linspace(0,5,6)\n",
    "x=np.array([0,2,0,-4,0,6])\n",
    "x2=np.array([0,2.1,0,-4,0,6])\n",
    "f=interp1d(t,x,kind='cubic')\n",
    "f2=interp1d(t,x2,kind='cubic')"
   ]
  },
  {
   "cell_type": "code",
   "execution_count": null,
   "metadata": {},
   "outputs": [],
   "source": [
    "# Plot the splines and data\n",
    "tnew=np.linspace(0,5,200)\n",
    "plt.xlabel('t')\n",
    "plt.ylabel('x')\n",
    "plt.plot(t,x,'o',tnew,f(tnew),'-',t,x2,'o',tnew,f2(tnew),'--')\n",
    "plt.legend(['data','cubic','data2','cubic2'],loc='best')\n",
    "\n",
    "# Optional plot of the difference\n",
    "#plt.plot(tnew,f(tnew)-f2(tnew),'-')\n",
    "\n",
    "plt.show()"
   ]
  },
  {
   "cell_type": "code",
   "execution_count": null,
   "metadata": {},
   "outputs": [],
   "source": [
    "# Plot the splines and data\n",
    "tnew=np.linspace(0,5,200)\n",
    "plt.xlabel('t')\n",
    "plt.ylabel('Difference')\n",
    "# plt.plot(t,x,'o',tnew,f(tnew),'-',t,x2,'o',tnew,f2(tnew),'--')\n",
    "# plt.legend(['data','cubic','data2','cubic2'],loc='best')\n",
    "\n",
    "# Optional plot of the difference\n",
    "plt.plot(tnew,f(tnew)-f2(tnew),'-')\n",
    "\n",
    "plt.show()"
   ]
  },
  {
   "cell_type": "code",
   "execution_count": null,
   "metadata": {},
   "outputs": [],
   "source": [
    "# Calculate two splines\n",
    "t=np.linspace(0,5,6)\n",
    "x=np.array([0,2,0,-4,0,6])\n",
    "y=np.array([1,0,-3,0,5,0])\n",
    "f=interp1d(t,x)\n",
    "g=interp1d(t,y)\n",
    "f2=interp1d(t,x,kind='cubic')\n",
    "g2=interp1d(t,y,kind='cubic')"
   ]
  },
  {
   "cell_type": "code",
   "execution_count": null,
   "metadata": {},
   "outputs": [],
   "source": [
    "# Use splines to plot a spiral\n",
    "tnew=np.linspace(0,5,200)\n",
    "plt.xlabel('x')\n",
    "plt.ylabel('y')\n",
    "plt.plot(x,y,'o',f(tnew),g(tnew),'-',f2(tnew),g2(tnew),'--')\n",
    "plt.legend(['data','linear','cubic'],loc='best')\n",
    "plt.show()\n"
   ]
  },
  {
   "cell_type": "code",
   "execution_count": null,
   "metadata": {},
   "outputs": [],
   "source": []
  }
 ],
 "metadata": {
  "kernelspec": {
   "display_name": "python3",
   "language": "python",
   "name": "python3"
  }
 },
 "nbformat": 4,
 "nbformat_minor": 2
}
