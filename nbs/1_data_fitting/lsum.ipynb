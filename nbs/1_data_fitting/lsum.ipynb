{
 "cells": [
  {
   "cell_type": "code",
   "execution_count": null,
   "metadata": {},
   "outputs": [],
   "source": [
    "import numpy as np\n",
    "import matplotlib.pyplot as plt"
   ]
  },
  {
   "cell_type": "code",
   "execution_count": null,
   "metadata": {},
   "outputs": [],
   "source": [
    "def lsum(x, xp):\n",
    "    ls = 0\n",
    "    for k in range(xp.size):\n",
    "        li = 1\n",
    "        for j in range(xp.size):\n",
    "            if j != k:\n",
    "                li *= (x - xp[j]) / (xp[k] - xp[j])\n",
    "        ls += np.abs(li)\n",
    "    return ls"
   ]
  },
  {
   "cell_type": "code",
   "execution_count": null,
   "metadata": {},
   "outputs": [],
   "source": [
    "xmin = -1\n",
    "xmax = 1\n",
    "n = 16\n",
    "\n",
    "xp = np.linspace(xmin, xmax, n)\n",
    "\n",
    "xx = np.linspace(xmin, xmax, 1000)\n",
    "yy = np.array([lsum(q, xp) for q in xx])\n",
    "\n",
    "plt.figure()\n",
    "plt.plot(xx, yy)\n",
    "plt.xlabel('x')\n",
    "plt.show()"
   ]
  },
  {
   "cell_type": "code",
   "execution_count": null,
   "metadata": {},
   "outputs": [],
   "source": [
    "xmin = -1\n",
    "xmax = 1\n",
    "n = 16\n",
    "\n",
    "xp=np.array([np.cos((2*j + 1)*np.pi/(2*n)) for j in range(n)])\n",
    "\n",
    "xx = np.linspace(xmin, xmax, 1000)\n",
    "yy = np.array([lsum(q, xp) for q in xx])\n",
    "\n",
    "plt.figure()\n",
    "plt.plot(xx, yy)\n",
    "plt.xlabel('x')\n",
    "plt.show()"
   ]
  },
  {
   "cell_type": "code",
   "execution_count": null,
   "metadata": {},
   "outputs": [],
   "source": [
    "xmin = -1\n",
    "xmax = 1\n",
    "n = 32\n",
    "\n",
    "xp = np.linspace(xmin, xmax, n)\n",
    "\n",
    "xx = np.linspace(xmin, xmax, 1000)\n",
    "yy = np.array([lsum(q, xp) for q in xx])\n",
    "\n",
    "plt.figure()\n",
    "plt.plot(xx, yy)\n",
    "plt.xlabel('x')\n",
    "plt.show()"
   ]
  },
  {
   "cell_type": "code",
   "execution_count": null,
   "metadata": {},
   "outputs": [],
   "source": [
    "xmin = -1\n",
    "xmax = 1\n",
    "n = 32\n",
    "\n",
    "xp=np.array([np.cos((2*j + 1)*np.pi/(2*n)) for j in range(n)])\n",
    "\n",
    "xx = np.linspace(xmin, xmax, 1000)\n",
    "yy = np.array([lsum(q, xp) for q in xx])\n",
    "\n",
    "plt.figure()\n",
    "plt.plot(xx, yy)\n",
    "plt.xlabel('x')\n",
    "plt.show()"
   ]
  },
  {
   "cell_type": "code",
   "execution_count": null,
   "metadata": {},
   "outputs": [],
   "source": [
    "xmin = -1\n",
    "xmax = 1\n",
    "n = 11\n",
    "\n",
    "xp = np.linspace(xmin, xmax, n)\n",
    "\n",
    "xx = np.linspace(xmin, xmax, 1000)\n",
    "yy = np.array([lsum(q, xp) for q in xx])\n",
    "\n",
    "plt.figure()\n",
    "plt.plot(xx, yy)\n",
    "plt.xlabel('x')\n",
    "plt.show()"
   ]
  },
  {
   "cell_type": "code",
   "execution_count": null,
   "metadata": {},
   "outputs": [],
   "source": [
    "xmin = -1\n",
    "xmax = 1\n",
    "n = 11\n",
    "\n",
    "xp=np.array([np.cos((2*j + 1)*np.pi/(2*n)) for j in range(n)])\n",
    "\n",
    "xx = np.linspace(xmin, xmax, 1000)\n",
    "yy = np.array([lsum(q, xp) for q in xx])\n",
    "\n",
    "plt.figure()\n",
    "plt.plot(xx, yy)\n",
    "plt.xlabel('x')\n",
    "plt.show()"
   ]
  },
  {
   "cell_type": "code",
   "execution_count": null,
   "metadata": {},
   "outputs": [],
   "source": []
  }
 ],
 "metadata": {
  "kernelspec": {
   "display_name": "python3",
   "language": "python",
   "name": "python3"
  }
 },
 "nbformat": 4,
 "nbformat_minor": 2
}
