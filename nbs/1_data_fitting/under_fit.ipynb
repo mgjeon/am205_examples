{
 "cells": [
  {
   "cell_type": "code",
   "execution_count": null,
   "metadata": {},
   "outputs": [],
   "source": [
    "import numpy as np\n",
    "import matplotlib.pyplot as plt"
   ]
  },
  {
   "cell_type": "code",
   "execution_count": null,
   "metadata": {},
   "outputs": [],
   "source": [
    "# Vandermonde interpolation function\n",
    "n=12\n",
    "def vand_f(x,b):\n",
    "    fx=b[0]\n",
    "    for i in range(n-1):\n",
    "        fx*=x\n",
    "        fx+=b[i+1]\n",
    "    return fx"
   ]
  },
  {
   "cell_type": "code",
   "execution_count": null,
   "metadata": {},
   "outputs": [],
   "source": [
    "# Construct rectangular Vandermonde matrix\n",
    "x=np.linspace(0.2,1,5)\n",
    "A=np.vander(x,n)\n",
    "y=np.cos(4*x)"
   ]
  },
  {
   "cell_type": "code",
   "execution_count": null,
   "metadata": {},
   "outputs": [],
   "source": [
    "# Solve using least squares routine. For an underdetermined system this finds\n",
    "# the interpolant that minimizes the norm of the parameter vector b1.\n",
    "b1=np.linalg.lstsq(A,y,rcond=None)[0]\n",
    "print(\"lstsq solve : Norm(r): \",np.linalg.norm(y-np.dot(A,b1)))"
   ]
  },
  {
   "cell_type": "code",
   "execution_count": null,
   "metadata": {},
   "outputs": [],
   "source": [
    "# Solve using normal equations + regularizer\n",
    "mu=0.05\n",
    "AT=np.transpose(A)\n",
    "ATA=np.dot(AT,A)\n",
    "print(\"\\nCondition number: \",np.linalg.cond(ATA))\n",
    "print(\"Condition number with regularizer: \",np.linalg.cond(ATA+mu*mu*np.identity(n)))\n",
    "b2=np.linalg.solve(ATA+mu*mu*np.identity(n),np.dot(AT,y))\n",
    "print(\"Normal eqs. : Norm(r): \",np.linalg.norm(y-np.dot(A,b2)))"
   ]
  },
  {
   "cell_type": "code",
   "execution_count": null,
   "metadata": {},
   "outputs": [],
   "source": [
    "# Plot the two solutions\n",
    "xnew=np.linspace(0,1,200)\n",
    "vnew=[vand_f(q,b1) for q in xnew]\n",
    "v2new=[vand_f(q,b2) for q in xnew]\n",
    "plt.plot(x,y,'o',xnew,vnew,xnew,v2new)\n",
    "plt.xlabel('x')\n",
    "plt.ylabel('y')\n",
    "plt.legend(['data','lstsq routine','Normal'],loc='best')\n",
    "plt.show()"
   ]
  },
  {
   "cell_type": "code",
   "execution_count": null,
   "metadata": {},
   "outputs": [],
   "source": [
    "mu=0.001\n",
    "AT=np.transpose(A)\n",
    "ATA=np.dot(AT,A)\n",
    "print(\"\\nCondition number: \",np.linalg.cond(ATA))\n",
    "print(\"Condition number with regularizer: \",np.linalg.cond(ATA+mu*mu*np.identity(n)))\n",
    "b2=np.linalg.solve(ATA+mu*mu*np.identity(n),np.dot(AT,y))\n",
    "print(\"Normal eqs. : Norm(r): \",np.linalg.norm(y-np.dot(A,b2)))\n",
    "\n",
    "xnew=np.linspace(0,1,200)\n",
    "vnew=[vand_f(q,b1) for q in xnew]\n",
    "v2new=[vand_f(q,b2) for q in xnew]\n",
    "plt.plot(x,y,'o',xnew,vnew,xnew,v2new)\n",
    "plt.xlabel('x')\n",
    "plt.ylabel('y')\n",
    "plt.legend(['data','lstsq routine','Normal'],loc='best')\n",
    "plt.show()"
   ]
  },
  {
   "cell_type": "code",
   "execution_count": null,
   "metadata": {},
   "outputs": [],
   "source": [
    "mu=0.5\n",
    "AT=np.transpose(A)\n",
    "ATA=np.dot(AT,A)\n",
    "print(\"\\nCondition number: \",np.linalg.cond(ATA))\n",
    "print(\"Condition number with regularizer: \",np.linalg.cond(ATA+mu*mu*np.identity(n)))\n",
    "b2=np.linalg.solve(ATA+mu*mu*np.identity(n),np.dot(AT,y))\n",
    "print(\"Normal eqs. : Norm(r): \",np.linalg.norm(y-np.dot(A,b2)))\n",
    "\n",
    "xnew=np.linspace(0,1,200)\n",
    "vnew=[vand_f(q,b1) for q in xnew]\n",
    "v2new=[vand_f(q,b2) for q in xnew]\n",
    "plt.plot(x,y,'o',xnew,vnew,xnew,v2new)\n",
    "plt.xlabel('x')\n",
    "plt.ylabel('y')\n",
    "plt.legend(['data','lstsq routine','Normal'],loc='best')\n",
    "plt.show()"
   ]
  },
  {
   "cell_type": "code",
   "execution_count": null,
   "metadata": {},
   "outputs": [],
   "source": []
  }
 ],
 "metadata": {
  "kernelspec": {
   "display_name": "python3",
   "language": "python",
   "name": "python3"
  }
 },
 "nbformat": 4,
 "nbformat_minor": 2
}
