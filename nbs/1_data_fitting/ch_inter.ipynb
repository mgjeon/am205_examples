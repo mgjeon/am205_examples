{
 "cells": [
  {
   "cell_type": "code",
   "execution_count": null,
   "metadata": {},
   "outputs": [],
   "source": [
    "import numpy as np\n",
    "import matplotlib.pyplot as plt"
   ]
  },
  {
   "cell_type": "code",
   "execution_count": null,
   "metadata": {},
   "outputs": [],
   "source": [
    "def lagr(x,xp,yp):\n",
    "    lm=0\n",
    "    for k in range(xp.size):\n",
    "        xc=xp[k]\n",
    "        li=1\n",
    "        for l in range(xp.size):\n",
    "            if l!=k:\n",
    "                li*=(x-xp[l])/(xp[k]-xp[l])\n",
    "        lm+=yp[k]*li\n",
    "    return lm"
   ]
  },
  {
   "cell_type": "code",
   "execution_count": null,
   "metadata": {},
   "outputs": [],
   "source": [
    "def f(x):\n",
    "    return 1/(1+25*x**2)\n",
    "\n",
    "n = 16\n",
    "xp = np.linspace(-1, 1, n)\n",
    "yp = np.array([f(q) for q in xp])\n",
    "\n",
    "xx=np.linspace(-1, 1, 500)\n",
    "yy=np.array([lagr(q, xp, yp) for q in xx])\n",
    "yy1=np.array([f(q) for q in xx])\n",
    "\n",
    "plt.figure()\n",
    "plt.plot(xx, yy1, label='Function')\n",
    "plt.plot(xx, yy, label='Interpolant')\n",
    "plt.plot(xp, yp, 'x', color='black')\n",
    "plt.legend()\n",
    "plt.xlabel('x')\n",
    "plt.ylabel('y')\n",
    "plt.show()"
   ]
  },
  {
   "cell_type": "code",
   "execution_count": null,
   "metadata": {},
   "outputs": [],
   "source": [
    "def f(x):\n",
    "    return 1/(1+25*x**2)\n",
    "\n",
    "n = 16\n",
    "xp = np.array([np.cos((2*j + 1)*np.pi/(2*n)) for j in range(n)])\n",
    "yp = np.array([f(q) for q in xp])\n",
    "\n",
    "xx=np.linspace(-1, 1, 500)\n",
    "yy=np.array([lagr(q, xp, yp) for q in xx])\n",
    "yy1=np.array([f(q) for q in xx])\n",
    "\n",
    "plt.figure()\n",
    "plt.plot(xx, yy1, label='Function')\n",
    "plt.plot(xx, yy, label='Interpolant')\n",
    "plt.plot(xp, yp, 'x', color='black')\n",
    "plt.legend()\n",
    "plt.xlabel('x')\n",
    "plt.ylabel('y')\n",
    "plt.show()"
   ]
  },
  {
   "cell_type": "code",
   "execution_count": null,
   "metadata": {},
   "outputs": [],
   "source": [
    "def f(x):\n",
    "    return np.abs(x)\n",
    "\n",
    "n = 16\n",
    "xp = np.linspace(-1, 1, n)\n",
    "yp = np.array([f(q) for q in xp])\n",
    "\n",
    "xx=np.linspace(-1, 1, 500)\n",
    "yy=np.array([lagr(q, xp, yp) for q in xx])\n",
    "yy1=np.array([f(q) for q in xx])\n",
    "\n",
    "plt.figure()\n",
    "plt.plot(xx, yy1, label='Function')\n",
    "plt.plot(xx, yy, label='Interpolant')\n",
    "plt.plot(xp, yp, 'x', color='black')\n",
    "plt.legend()\n",
    "plt.xlabel('x')\n",
    "plt.ylabel('y')\n",
    "plt.show()"
   ]
  },
  {
   "cell_type": "code",
   "execution_count": null,
   "metadata": {},
   "outputs": [],
   "source": [
    "def f(x):\n",
    "    return np.abs(x)\n",
    "\n",
    "n = 16\n",
    "xp = np.array([np.cos((2*j + 1)*np.pi/(2*n)) for j in range(n)])\n",
    "yp = np.array([f(q) for q in xp])\n",
    "\n",
    "xx=np.linspace(-1, 1, 500)\n",
    "yy=np.array([lagr(q, xp, yp) for q in xx])\n",
    "yy1=np.array([f(q) for q in xx])\n",
    "\n",
    "plt.figure()\n",
    "plt.plot(xx, yy1, label='Function')\n",
    "plt.plot(xx, yy, label='Interpolant')\n",
    "plt.plot(xp, yp, 'x', color='black')\n",
    "plt.legend()\n",
    "plt.xlabel('x')\n",
    "plt.ylabel('y')\n",
    "plt.show()"
   ]
  },
  {
   "cell_type": "code",
   "execution_count": null,
   "metadata": {},
   "outputs": [],
   "source": []
  }
 ],
 "metadata": {
  "kernelspec": {
   "display_name": "python3",
   "language": "python",
   "name": "python3"
  }
 },
 "nbformat": 4,
 "nbformat_minor": 2
}
